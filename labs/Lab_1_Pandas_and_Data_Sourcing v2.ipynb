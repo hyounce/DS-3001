{
 "cells": [
  {
   "cell_type": "markdown",
   "metadata": {
    "id": "Hkkb_7LYKsG4"
   },
   "source": [
    "## **Name:** First Last\n",
    "\n",
    "## **Computing ID:** ID"
   ]
  },
  {
   "cell_type": "markdown",
   "metadata": {
    "id": "r4A9sts1JrTc"
   },
   "source": [
    "# Lab 1: Pandas and Data Sourcing (50 Points)\n",
    "Version 2"
   ]
  },
  {
   "cell_type": "markdown",
   "metadata": {},
   "source": [
    "[![Open In Colab](https://colab.research.google.com/assets/colab-badge.svg)](https://colab.research.google.com/drive/1iwoJjEGsY2ej0s9i0iPXw50qpjNoDf_p?usp=sharing)"
   ]
  },
  {
   "cell_type": "code",
   "execution_count": 82,
   "metadata": {
    "colab": {
     "base_uri": "https://localhost:8080/"
    },
    "id": "1DAOPfwqMV5t",
    "outputId": "961c52e8-bc83-460c-aab2-a1de2c9ca262"
   },
   "outputs": [],
   "source": [
    "import pandas as pd\n",
    "import numpy as np\n",
    "import matplotlib.pyplot as plt\n",
    "from pydataset import data\n",
    "import requests\n",
    "import json"
   ]
  },
  {
   "cell_type": "markdown",
   "metadata": {
    "id": "15fvjC_zJwzl"
   },
   "source": [
    "## Part 1: Data Structure Review and Pandas Functions (20 Points)"
   ]
  },
  {
   "cell_type": "markdown",
   "metadata": {
    "id": "m4xxMTbVTIUP"
   },
   "source": [
    "## **Question 1 (10 points):** Read in or load a dataset as a Pandas DataFrame with at least 3 features and no more than 5. You may need to drop or filter columns in larger DataFrames. Make a single summary visual that encodes *all* the features (ie: columns) in your DataFrame. You may load your own dataset in (ie: from Kaggle), or pick from the datasets available in PyDataset already loaded below for your convenience.\n",
    "\n",
    "For example, you could summarize a dataset with 3 features with a simple scatter plot and colors for different values in a column. You could also plot each column individually. Features like different line or point labels, plot types, color, marker shapes, and even subplots might be necessary!"
   ]
  },
  {
   "cell_type": "code",
   "execution_count": 2,
   "metadata": {
    "colab": {
     "base_uri": "https://localhost:8080/",
     "height": 424
    },
    "id": "-hB-vdkpmJFf",
    "outputId": "398b80cb-4b47-4bb2-b89c-8370721d43cc"
   },
   "outputs": [
    {
     "data": {
      "text/html": [
       "<div>\n",
       "<style scoped>\n",
       "    .dataframe tbody tr th:only-of-type {\n",
       "        vertical-align: middle;\n",
       "    }\n",
       "\n",
       "    .dataframe tbody tr th {\n",
       "        vertical-align: top;\n",
       "    }\n",
       "\n",
       "    .dataframe thead th {\n",
       "        text-align: right;\n",
       "    }\n",
       "</style>\n",
       "<table border=\"1\" class=\"dataframe\">\n",
       "  <thead>\n",
       "    <tr style=\"text-align: right;\">\n",
       "      <th></th>\n",
       "      <th>dataset_id</th>\n",
       "      <th>title</th>\n",
       "    </tr>\n",
       "  </thead>\n",
       "  <tbody>\n",
       "    <tr>\n",
       "      <th>0</th>\n",
       "      <td>AirPassengers</td>\n",
       "      <td>Monthly Airline Passenger Numbers 1949-1960</td>\n",
       "    </tr>\n",
       "    <tr>\n",
       "      <th>1</th>\n",
       "      <td>BJsales</td>\n",
       "      <td>Sales Data with Leading Indicator</td>\n",
       "    </tr>\n",
       "    <tr>\n",
       "      <th>2</th>\n",
       "      <td>BOD</td>\n",
       "      <td>Biochemical Oxygen Demand</td>\n",
       "    </tr>\n",
       "    <tr>\n",
       "      <th>3</th>\n",
       "      <td>Formaldehyde</td>\n",
       "      <td>Determination of Formaldehyde</td>\n",
       "    </tr>\n",
       "    <tr>\n",
       "      <th>4</th>\n",
       "      <td>HairEyeColor</td>\n",
       "      <td>Hair and Eye Color of Statistics Students</td>\n",
       "    </tr>\n",
       "    <tr>\n",
       "      <th>...</th>\n",
       "      <td>...</td>\n",
       "      <td>...</td>\n",
       "    </tr>\n",
       "    <tr>\n",
       "      <th>752</th>\n",
       "      <td>VerbAgg</td>\n",
       "      <td>Verbal Aggression item responses</td>\n",
       "    </tr>\n",
       "    <tr>\n",
       "      <th>753</th>\n",
       "      <td>cake</td>\n",
       "      <td>Breakage Angle of Chocolate Cakes</td>\n",
       "    </tr>\n",
       "    <tr>\n",
       "      <th>754</th>\n",
       "      <td>cbpp</td>\n",
       "      <td>Contagious bovine pleuropneumonia</td>\n",
       "    </tr>\n",
       "    <tr>\n",
       "      <th>755</th>\n",
       "      <td>grouseticks</td>\n",
       "      <td>Data on red grouse ticks from Elston et al. 2001</td>\n",
       "    </tr>\n",
       "    <tr>\n",
       "      <th>756</th>\n",
       "      <td>sleepstudy</td>\n",
       "      <td>Reaction times in a sleep deprivation study</td>\n",
       "    </tr>\n",
       "  </tbody>\n",
       "</table>\n",
       "<p>757 rows × 2 columns</p>\n",
       "</div>"
      ],
      "text/plain": [
       "        dataset_id                                             title\n",
       "0    AirPassengers       Monthly Airline Passenger Numbers 1949-1960\n",
       "1          BJsales                 Sales Data with Leading Indicator\n",
       "2              BOD                         Biochemical Oxygen Demand\n",
       "3     Formaldehyde                     Determination of Formaldehyde\n",
       "4     HairEyeColor         Hair and Eye Color of Statistics Students\n",
       "..             ...                                               ...\n",
       "752        VerbAgg                  Verbal Aggression item responses\n",
       "753           cake                 Breakage Angle of Chocolate Cakes\n",
       "754           cbpp                 Contagious bovine pleuropneumonia\n",
       "755    grouseticks  Data on red grouse ticks from Elston et al. 2001\n",
       "756     sleepstudy       Reaction times in a sleep deprivation study\n",
       "\n",
       "[757 rows x 2 columns]"
      ]
     },
     "execution_count": 2,
     "metadata": {},
     "output_type": "execute_result"
    }
   ],
   "source": [
    "dataset_list = data()\n",
    "dataset_list"
   ]
  },
  {
   "cell_type": "code",
   "execution_count": 18,
   "metadata": {},
   "outputs": [
    {
     "data": {
      "text/html": [
       "<div>\n",
       "<style scoped>\n",
       "    .dataframe tbody tr th:only-of-type {\n",
       "        vertical-align: middle;\n",
       "    }\n",
       "\n",
       "    .dataframe tbody tr th {\n",
       "        vertical-align: top;\n",
       "    }\n",
       "\n",
       "    .dataframe thead th {\n",
       "        text-align: right;\n",
       "    }\n",
       "</style>\n",
       "<table border=\"1\" class=\"dataframe\">\n",
       "  <thead>\n",
       "    <tr style=\"text-align: right;\">\n",
       "      <th></th>\n",
       "      <th>dataset_id</th>\n",
       "      <th>title</th>\n",
       "    </tr>\n",
       "  </thead>\n",
       "  <tbody>\n",
       "    <tr>\n",
       "      <th>100</th>\n",
       "      <td>hirose</td>\n",
       "      <td>Failure Time of PET Film</td>\n",
       "    </tr>\n",
       "    <tr>\n",
       "      <th>101</th>\n",
       "      <td>islay</td>\n",
       "      <td>Jura Quartzite Azimuths on Islay</td>\n",
       "    </tr>\n",
       "    <tr>\n",
       "      <th>102</th>\n",
       "      <td>manaus</td>\n",
       "      <td>Average Heights of the Rio Negro river at Manaus</td>\n",
       "    </tr>\n",
       "    <tr>\n",
       "      <th>103</th>\n",
       "      <td>melanoma</td>\n",
       "      <td>Survival from Malignant Melanoma</td>\n",
       "    </tr>\n",
       "    <tr>\n",
       "      <th>104</th>\n",
       "      <td>motor</td>\n",
       "      <td>Data from a Simulated Motorcycle Accident</td>\n",
       "    </tr>\n",
       "    <tr>\n",
       "      <th>105</th>\n",
       "      <td>neuro</td>\n",
       "      <td>Neurophysiological Point Process Data</td>\n",
       "    </tr>\n",
       "    <tr>\n",
       "      <th>106</th>\n",
       "      <td>nitrofen</td>\n",
       "      <td>Toxicity of Nitrofen in Aquatic Systems</td>\n",
       "    </tr>\n",
       "    <tr>\n",
       "      <th>107</th>\n",
       "      <td>nodal</td>\n",
       "      <td>Nodal Involvement in Prostate Cancer</td>\n",
       "    </tr>\n",
       "    <tr>\n",
       "      <th>108</th>\n",
       "      <td>nuclear</td>\n",
       "      <td>Nuclear Power Station Construction Data</td>\n",
       "    </tr>\n",
       "    <tr>\n",
       "      <th>109</th>\n",
       "      <td>paulsen</td>\n",
       "      <td>Neurotransmission in Guinea Pig Brains</td>\n",
       "    </tr>\n",
       "    <tr>\n",
       "      <th>110</th>\n",
       "      <td>poisons</td>\n",
       "      <td>Animal Survival Times</td>\n",
       "    </tr>\n",
       "  </tbody>\n",
       "</table>\n",
       "</div>"
      ],
      "text/plain": [
       "    dataset_id                                             title\n",
       "100     hirose                          Failure Time of PET Film\n",
       "101      islay                  Jura Quartzite Azimuths on Islay\n",
       "102     manaus  Average Heights of the Rio Negro river at Manaus\n",
       "103   melanoma                  Survival from Malignant Melanoma\n",
       "104      motor         Data from a Simulated Motorcycle Accident\n",
       "105      neuro             Neurophysiological Point Process Data\n",
       "106   nitrofen           Toxicity of Nitrofen in Aquatic Systems\n",
       "107      nodal              Nodal Involvement in Prostate Cancer\n",
       "108    nuclear           Nuclear Power Station Construction Data\n",
       "109    paulsen            Neurotransmission in Guinea Pig Brains\n",
       "110    poisons                             Animal Survival Times"
      ]
     },
     "execution_count": 18,
     "metadata": {},
     "output_type": "execute_result"
    }
   ],
   "source": [
    "dataset_list.loc[100:110]"
   ]
  },
  {
   "cell_type": "code",
   "execution_count": 20,
   "metadata": {},
   "outputs": [
    {
     "data": {
      "text/html": [
       "<div>\n",
       "<style scoped>\n",
       "    .dataframe tbody tr th:only-of-type {\n",
       "        vertical-align: middle;\n",
       "    }\n",
       "\n",
       "    .dataframe tbody tr th {\n",
       "        vertical-align: top;\n",
       "    }\n",
       "\n",
       "    .dataframe thead th {\n",
       "        text-align: right;\n",
       "    }\n",
       "</style>\n",
       "<table border=\"1\" class=\"dataframe\">\n",
       "  <thead>\n",
       "    <tr style=\"text-align: right;\">\n",
       "      <th></th>\n",
       "      <th>times</th>\n",
       "      <th>accel</th>\n",
       "      <th>strata</th>\n",
       "      <th>v</th>\n",
       "    </tr>\n",
       "  </thead>\n",
       "  <tbody>\n",
       "    <tr>\n",
       "      <th>1</th>\n",
       "      <td>2.4</td>\n",
       "      <td>0.0</td>\n",
       "      <td>1</td>\n",
       "      <td>3.7</td>\n",
       "    </tr>\n",
       "    <tr>\n",
       "      <th>2</th>\n",
       "      <td>2.6</td>\n",
       "      <td>-1.3</td>\n",
       "      <td>1</td>\n",
       "      <td>3.7</td>\n",
       "    </tr>\n",
       "    <tr>\n",
       "      <th>3</th>\n",
       "      <td>3.2</td>\n",
       "      <td>-2.7</td>\n",
       "      <td>1</td>\n",
       "      <td>3.7</td>\n",
       "    </tr>\n",
       "    <tr>\n",
       "      <th>4</th>\n",
       "      <td>3.6</td>\n",
       "      <td>0.0</td>\n",
       "      <td>1</td>\n",
       "      <td>3.7</td>\n",
       "    </tr>\n",
       "    <tr>\n",
       "      <th>5</th>\n",
       "      <td>4.0</td>\n",
       "      <td>-2.7</td>\n",
       "      <td>1</td>\n",
       "      <td>3.7</td>\n",
       "    </tr>\n",
       "  </tbody>\n",
       "</table>\n",
       "</div>"
      ],
      "text/plain": [
       "   times  accel  strata    v\n",
       "1    2.4    0.0       1  3.7\n",
       "2    2.6   -1.3       1  3.7\n",
       "3    3.2   -2.7       1  3.7\n",
       "4    3.6    0.0       1  3.7\n",
       "5    4.0   -2.7       1  3.7"
      ]
     },
     "execution_count": 20,
     "metadata": {},
     "output_type": "execute_result"
    }
   ],
   "source": [
    "# Select motor dataset\n",
    "motor_df = data('motor')\n",
    "motor_df.head()"
   ]
  },
  {
   "cell_type": "code",
   "execution_count": 62,
   "metadata": {},
   "outputs": [],
   "source": [
    "# motor_df.drop(['times'], axis=1).head() - drop colummn by name\n",
    "# motor_df.drop(motor_df.columns[1], axis=1).head() - drop column by index\n",
    "# motor_df[['times', 'accel']].head() - keep column by name\n",
    "# motor_df.loc[:, ['times', 'accel']].head() - keep column by name\n",
    "# motor_df.filter(['times'], axis=1).head() - keep column by name\n",
    "# motor_df.iloc[:, [0,2]].head() - keep column by index\n",
    "motor_df = motor_df.drop(['v'], axis=1)"
   ]
  },
  {
   "cell_type": "code",
   "execution_count": 63,
   "metadata": {},
   "outputs": [
    {
     "data": {
      "text/plain": [
       "array([1, 2, 3])"
      ]
     },
     "execution_count": 63,
     "metadata": {},
     "output_type": "execute_result"
    }
   ],
   "source": [
    "motor_df['strata'].value_counts()\n",
    "stratas = motor_df['strata'].unique()\n",
    "stratas"
   ]
  },
  {
   "cell_type": "code",
   "execution_count": 64,
   "metadata": {},
   "outputs": [
    {
     "data": {
      "text/html": [
       "<div>\n",
       "<style scoped>\n",
       "    .dataframe tbody tr th:only-of-type {\n",
       "        vertical-align: middle;\n",
       "    }\n",
       "\n",
       "    .dataframe tbody tr th {\n",
       "        vertical-align: top;\n",
       "    }\n",
       "\n",
       "    .dataframe thead th {\n",
       "        text-align: right;\n",
       "    }\n",
       "</style>\n",
       "<table border=\"1\" class=\"dataframe\">\n",
       "  <thead>\n",
       "    <tr style=\"text-align: right;\">\n",
       "      <th></th>\n",
       "      <th>times</th>\n",
       "      <th>accel</th>\n",
       "      <th>strata</th>\n",
       "    </tr>\n",
       "  </thead>\n",
       "  <tbody>\n",
       "    <tr>\n",
       "      <th>1</th>\n",
       "      <td>2.4</td>\n",
       "      <td>0.0</td>\n",
       "      <td>1</td>\n",
       "    </tr>\n",
       "    <tr>\n",
       "      <th>2</th>\n",
       "      <td>2.6</td>\n",
       "      <td>-1.3</td>\n",
       "      <td>1</td>\n",
       "    </tr>\n",
       "    <tr>\n",
       "      <th>3</th>\n",
       "      <td>3.2</td>\n",
       "      <td>-2.7</td>\n",
       "      <td>1</td>\n",
       "    </tr>\n",
       "    <tr>\n",
       "      <th>4</th>\n",
       "      <td>3.6</td>\n",
       "      <td>0.0</td>\n",
       "      <td>1</td>\n",
       "    </tr>\n",
       "    <tr>\n",
       "      <th>5</th>\n",
       "      <td>4.0</td>\n",
       "      <td>-2.7</td>\n",
       "      <td>1</td>\n",
       "    </tr>\n",
       "  </tbody>\n",
       "</table>\n",
       "</div>"
      ],
      "text/plain": [
       "   times  accel  strata\n",
       "1    2.4    0.0       1\n",
       "2    2.6   -1.3       1\n",
       "3    3.2   -2.7       1\n",
       "4    3.6    0.0       1\n",
       "5    4.0   -2.7       1"
      ]
     },
     "execution_count": 64,
     "metadata": {},
     "output_type": "execute_result"
    }
   ],
   "source": [
    "motor_df.head()"
   ]
  },
  {
   "cell_type": "code",
   "execution_count": 65,
   "metadata": {},
   "outputs": [
    {
     "data": {
      "image/png": "[encoded data removed]",
      "text/plain": [
       "<Figure size 800x800 with 1 Axes>"
      ]
     },
     "metadata": {},
     "output_type": "display_data"
    }
   ],
   "source": [
    "# Scatter plot\n",
    "colors = plt.cm.viridis(np.linspace(0, 1, len(stratas))) \n",
    "color_map = dict(zip(stratas, colors))\n",
    "\n",
    "plt.figure(figsize=(8,8))\n",
    "for s in stratas:\n",
    "    subset = motor_df[motor_df['strata'] == s]\n",
    "    plt.scatter(subset['accel'], subset['times'], color=color_map[s], label=s)\n",
    "\n",
    "plt.legend(title='Strata')\n",
    "plt.show()\n"
   ]
  },
  {
   "cell_type": "markdown",
   "metadata": {
    "id": "5Vg22v2m1xVS"
   },
   "source": [
    "## **Question 2 (5 points):** Use your visualization to segment the dataset into at least 3 natural groups using any form of Pandas filtering functions. Save each group's data as its own DataFrame."
   ]
  },
  {
   "cell_type": "code",
   "execution_count": 68,
   "metadata": {
    "id": "Cm1llxpc4IZO"
   },
   "outputs": [
    {
     "data": {
      "text/html": [
       "<div>\n",
       "<style scoped>\n",
       "    .dataframe tbody tr th:only-of-type {\n",
       "        vertical-align: middle;\n",
       "    }\n",
       "\n",
       "    .dataframe tbody tr th {\n",
       "        vertical-align: top;\n",
       "    }\n",
       "\n",
       "    .dataframe thead th {\n",
       "        text-align: right;\n",
       "    }\n",
       "</style>\n",
       "<table border=\"1\" class=\"dataframe\">\n",
       "  <thead>\n",
       "    <tr style=\"text-align: right;\">\n",
       "      <th></th>\n",
       "      <th>times</th>\n",
       "      <th>accel</th>\n",
       "      <th>strata</th>\n",
       "    </tr>\n",
       "  </thead>\n",
       "  <tbody>\n",
       "    <tr>\n",
       "      <th>1</th>\n",
       "      <td>2.4</td>\n",
       "      <td>0.0</td>\n",
       "      <td>1</td>\n",
       "    </tr>\n",
       "    <tr>\n",
       "      <th>2</th>\n",
       "      <td>2.6</td>\n",
       "      <td>-1.3</td>\n",
       "      <td>1</td>\n",
       "    </tr>\n",
       "    <tr>\n",
       "      <th>3</th>\n",
       "      <td>3.2</td>\n",
       "      <td>-2.7</td>\n",
       "      <td>1</td>\n",
       "    </tr>\n",
       "    <tr>\n",
       "      <th>4</th>\n",
       "      <td>3.6</td>\n",
       "      <td>0.0</td>\n",
       "      <td>1</td>\n",
       "    </tr>\n",
       "    <tr>\n",
       "      <th>5</th>\n",
       "      <td>4.0</td>\n",
       "      <td>-2.7</td>\n",
       "      <td>1</td>\n",
       "    </tr>\n",
       "  </tbody>\n",
       "</table>\n",
       "</div>"
      ],
      "text/plain": [
       "   times  accel  strata\n",
       "1    2.4    0.0       1\n",
       "2    2.6   -1.3       1\n",
       "3    3.2   -2.7       1\n",
       "4    3.6    0.0       1\n",
       "5    4.0   -2.7       1"
      ]
     },
     "execution_count": 68,
     "metadata": {},
     "output_type": "execute_result"
    }
   ],
   "source": [
    "strata1 = motor_df[motor_df.strata == 1]\n",
    "strata1.head()"
   ]
  },
  {
   "cell_type": "code",
   "execution_count": 69,
   "metadata": {},
   "outputs": [
    {
     "data": {
      "text/html": [
       "<div>\n",
       "<style scoped>\n",
       "    .dataframe tbody tr th:only-of-type {\n",
       "        vertical-align: middle;\n",
       "    }\n",
       "\n",
       "    .dataframe tbody tr th {\n",
       "        vertical-align: top;\n",
       "    }\n",
       "\n",
       "    .dataframe thead th {\n",
       "        text-align: right;\n",
       "    }\n",
       "</style>\n",
       "<table border=\"1\" class=\"dataframe\">\n",
       "  <thead>\n",
       "    <tr style=\"text-align: right;\">\n",
       "      <th></th>\n",
       "      <th>times</th>\n",
       "      <th>accel</th>\n",
       "      <th>strata</th>\n",
       "    </tr>\n",
       "  </thead>\n",
       "  <tbody>\n",
       "    <tr>\n",
       "      <th>19</th>\n",
       "      <td>13.2</td>\n",
       "      <td>-2.7</td>\n",
       "      <td>2</td>\n",
       "    </tr>\n",
       "    <tr>\n",
       "      <th>20</th>\n",
       "      <td>13.6</td>\n",
       "      <td>-2.7</td>\n",
       "      <td>2</td>\n",
       "    </tr>\n",
       "    <tr>\n",
       "      <th>21</th>\n",
       "      <td>13.8</td>\n",
       "      <td>0.0</td>\n",
       "      <td>2</td>\n",
       "    </tr>\n",
       "    <tr>\n",
       "      <th>22</th>\n",
       "      <td>14.6</td>\n",
       "      <td>-13.3</td>\n",
       "      <td>2</td>\n",
       "    </tr>\n",
       "    <tr>\n",
       "      <th>28</th>\n",
       "      <td>14.8</td>\n",
       "      <td>-2.7</td>\n",
       "      <td>2</td>\n",
       "    </tr>\n",
       "  </tbody>\n",
       "</table>\n",
       "</div>"
      ],
      "text/plain": [
       "    times  accel  strata\n",
       "19   13.2   -2.7       2\n",
       "20   13.6   -2.7       2\n",
       "21   13.8    0.0       2\n",
       "22   14.6  -13.3       2\n",
       "28   14.8   -2.7       2"
      ]
     },
     "execution_count": 69,
     "metadata": {},
     "output_type": "execute_result"
    }
   ],
   "source": [
    "strata2 = motor_df.query('strata == 2')\n",
    "strata2.head()"
   ]
  },
  {
   "cell_type": "code",
   "execution_count": 73,
   "metadata": {},
   "outputs": [
    {
     "data": {
      "text/html": [
       "<div>\n",
       "<style scoped>\n",
       "    .dataframe tbody tr th:only-of-type {\n",
       "        vertical-align: middle;\n",
       "    }\n",
       "\n",
       "    .dataframe tbody tr th {\n",
       "        vertical-align: top;\n",
       "    }\n",
       "\n",
       "    .dataframe thead th {\n",
       "        text-align: right;\n",
       "    }\n",
       "</style>\n",
       "<table border=\"1\" class=\"dataframe\">\n",
       "  <thead>\n",
       "    <tr style=\"text-align: right;\">\n",
       "      <th></th>\n",
       "      <th>times</th>\n",
       "      <th>accel</th>\n",
       "      <th>strata</th>\n",
       "    </tr>\n",
       "  </thead>\n",
       "  <tbody>\n",
       "    <tr>\n",
       "      <th>114</th>\n",
       "      <td>41.6</td>\n",
       "      <td>30.8</td>\n",
       "      <td>3</td>\n",
       "    </tr>\n",
       "    <tr>\n",
       "      <th>116</th>\n",
       "      <td>42.4</td>\n",
       "      <td>29.4</td>\n",
       "      <td>3</td>\n",
       "    </tr>\n",
       "    <tr>\n",
       "      <th>117</th>\n",
       "      <td>42.8</td>\n",
       "      <td>0.0</td>\n",
       "      <td>3</td>\n",
       "    </tr>\n",
       "    <tr>\n",
       "      <th>119</th>\n",
       "      <td>43.0</td>\n",
       "      <td>14.7</td>\n",
       "      <td>3</td>\n",
       "    </tr>\n",
       "    <tr>\n",
       "      <th>120</th>\n",
       "      <td>44.0</td>\n",
       "      <td>-1.3</td>\n",
       "      <td>3</td>\n",
       "    </tr>\n",
       "  </tbody>\n",
       "</table>\n",
       "</div>"
      ],
      "text/plain": [
       "     times  accel  strata\n",
       "114   41.6   30.8       3\n",
       "116   42.4   29.4       3\n",
       "117   42.8    0.0       3\n",
       "119   43.0   14.7       3\n",
       "120   44.0   -1.3       3"
      ]
     },
     "execution_count": 73,
     "metadata": {},
     "output_type": "execute_result"
    }
   ],
   "source": [
    "strata3 = motor_df.loc[motor_df['strata'] ==3]\n",
    "strata3.head()"
   ]
  },
  {
   "cell_type": "markdown",
   "metadata": {
    "id": "dNZQriOetvlc"
   },
   "source": [
    "## **Question 3 (5 points):** Print a summary of each DataFrame including its size, shape, and descriptive statistics using the describe function. Write a few sentences in a text cell on if any relationships emerge and if the results are surprising or expected."
   ]
  },
  {
   "cell_type": "code",
   "execution_count": 80,
   "metadata": {
    "id": "jtnegZDN1w7u"
   },
   "outputs": [
    {
     "name": "stdout",
     "output_type": "stream",
     "text": [
      "51 \n",
      " (17, 3) \n",
      "            times      accel  strata\n",
      "count  17.000000  17.000000    17.0\n",
      "mean    7.235294  -2.294118     1.0\n",
      "std     3.113065   1.571810     0.0\n",
      "min     2.400000  -5.400000     1.0\n",
      "25%     4.000000  -2.700000     1.0\n",
      "50%     7.800000  -2.700000     1.0\n",
      "75%    10.000000  -1.300000     1.0\n",
      "max    11.400000   0.000000     1.0 \n",
      "\n",
      "\n",
      "183 \n",
      " (61, 3) \n",
      "            times       accel  strata\n",
      "count  61.000000   61.000000    61.0\n",
      "mean   25.268852  -33.850820     2.0\n",
      "std     7.838442   59.011583     0.0\n",
      "min    13.200000 -134.000000     2.0\n",
      "25%    18.600000  -85.600000     2.0\n",
      "50%    25.000000  -21.500000     2.0\n",
      "75%    31.200000    1.300000     2.0\n",
      "max    40.400000   75.000000     2.0 \n",
      "\n",
      "\n",
      "48 \n",
      " (16, 3) \n",
      "            times      accel  strata\n",
      "count  16.000000  16.000000    16.0\n",
      "mean   48.137500   3.512500     3.0\n",
      "std     5.230535  15.093348     0.0\n",
      "min    41.600000 -26.800000     3.0\n",
      "25%    43.750000  -2.700000     3.0\n",
      "50%    47.200000   0.000000     3.0\n",
      "75%    52.300000  10.700000     3.0\n",
      "max    57.600000  30.800000     3.0 \n",
      "\n",
      "\n"
     ]
    }
   ],
   "source": [
    "dfs = [strata1, strata2, strata3]\n",
    "for df in dfs:\n",
    "    print(df.size,'\\n',\n",
    "          df.shape, '\\n', \n",
    "          df.describe(), '\\n\\n')"
   ]
  },
  {
   "cell_type": "markdown",
   "metadata": {
    "id": "ec98NMgiSt2T"
   },
   "source": [
    "## Part 2: Getting Data From APIs and Web Scraping (30 points)\n",
    "A great source of data and Pandas practice is getting data from the Internet. Rather than a .csv file, many data will be in a stream of records, typically in XML (eXtensible Mark-up Language) or JSON (JavaScript Object Notation) format.\n",
    "\n",
    "In the 2nd part of this lab, you will choose from utilizing a simple API for getting and analyzing data through a variety of queries or web scraping a page.\n",
    "\n",
    "**Web Scraping Examples**\n",
    "* Any Wikipedia page\n",
    "  * https://en.wikipedia.org/wiki/Capybara  \n",
    "  * https://en.m.wikipedia.org/wiki/List_of_common_misconceptions\n",
    "* https://toscrape.com/\n",
    "* https://www.scrapethissite.com/\n",
    "* https://github.com/stanfordjournalism/search-script-scrape\n",
    "\n",
    "\n",
    "**API Examples**\n",
    "*   https://pokeapi.co/\n",
    "  * Example: https://pokeapi.co/api/v2/pokemon?limit=1000&offset=0\n",
    "* https://place.dog/\n",
    "* https://dukengn.github.io/Dog-facts-API/  \n",
    "* https://apiv3.iucnredlist.org/api/v3/docs\n",
    "\n",
    "A more exhaustive API list can be found at: https://github.com/public-apis/public-apis.\n"
   ]
  },
  {
   "cell_type": "markdown",
   "metadata": {
    "id": "78SusRUdeVut"
   },
   "source": [
    "\n",
    "## **Question 1 (5 points):** Pick a URL (several examples are above) to either web scrape data from OR query using an API (no need to do both). Download your initial raw data using the `requests` package and store it in a variable.\n",
    "\n",
    "## Print your variable. Observe what kind of data your API or website can produce and design a DataFrame of at least 1 column you would like to create. Write the feature(s) you plan on obtaining below.\n",
    "\n"
   ]
  },
  {
   "cell_type": "markdown",
   "metadata": {
    "id": "kFT5NiQAurMg"
   },
   "source": [
    "### **URL Chosen:** Text\n",
    "\n",
    "### **API or Web Scraping:** Text\n",
    "\n",
    "### **DataFrame Column(s):** Feature 1"
   ]
  },
  {
   "cell_type": "code",
   "execution_count": 90,
   "metadata": {},
   "outputs": [],
   "source": [
    "r = requests.get('https://httpbin.org/user-agent')\n",
    "useragent = json.loads(r.text)['user-agent']\n",
    "headers = {'User-agent' : useragent}"
   ]
  },
  {
   "cell_type": "code",
   "execution_count": 107,
   "metadata": {
    "id": "QJ1dpOJgpyQz"
   },
   "outputs": [],
   "source": [
    "# https://github.com/public-apis/public-apis?\n",
    "root = 'https://wizard-world-api.herokuapp.com' # Oscar nominations\n",
    "endpoint = '/Spells'\n",
    "r = requests.get(url=root+endpoint, headers=headers)"
   ]
  },
  {
   "cell_type": "code",
   "execution_count": 108,
   "metadata": {},
   "outputs": [
    {
     "data": {
      "text/plain": [
       "<Response [200]>"
      ]
     },
     "execution_count": 108,
     "metadata": {},
     "output_type": "execute_result"
    }
   ],
   "source": [
    "r"
   ]
  },
  {
   "cell_type": "code",
   "execution_count": 110,
   "metadata": {},
   "outputs": [
    {
     "data": {
      "text/html": [
       "<div>\n",
       "<style scoped>\n",
       "    .dataframe tbody tr th:only-of-type {\n",
       "        vertical-align: middle;\n",
       "    }\n",
       "\n",
       "    .dataframe tbody tr th {\n",
       "        vertical-align: top;\n",
       "    }\n",
       "\n",
       "    .dataframe thead th {\n",
       "        text-align: right;\n",
       "    }\n",
       "</style>\n",
       "<table border=\"1\" class=\"dataframe\">\n",
       "  <thead>\n",
       "    <tr style=\"text-align: right;\">\n",
       "      <th></th>\n",
       "      <th>id</th>\n",
       "      <th>name</th>\n",
       "      <th>incantation</th>\n",
       "      <th>effect</th>\n",
       "      <th>canBeVerbal</th>\n",
       "      <th>type</th>\n",
       "      <th>light</th>\n",
       "      <th>creator</th>\n",
       "    </tr>\n",
       "  </thead>\n",
       "  <tbody>\n",
       "    <tr>\n",
       "      <th>0</th>\n",
       "      <td>fbd3cb46-c174-4843-a07e-fd83545dce58</td>\n",
       "      <td>Opening Charm</td>\n",
       "      <td>Aberto</td>\n",
       "      <td>Opens doors</td>\n",
       "      <td>True</td>\n",
       "      <td>Charm</td>\n",
       "      <td>Blue</td>\n",
       "      <td>None</td>\n",
       "    </tr>\n",
       "    <tr>\n",
       "      <th>1</th>\n",
       "      <td>5eb39a99-72cd-4d40-b4aa-b0f5dd195100</td>\n",
       "      <td>Water-Making Spell</td>\n",
       "      <td>Aguamenti</td>\n",
       "      <td>Conjures water</td>\n",
       "      <td>True</td>\n",
       "      <td>Conjuration</td>\n",
       "      <td>IcyBlue</td>\n",
       "      <td>None</td>\n",
       "    </tr>\n",
       "    <tr>\n",
       "      <th>2</th>\n",
       "      <td>ab3a8dfe-1e56-4706-a20d-26afee011ed7</td>\n",
       "      <td>Alarte Ascendare</td>\n",
       "      <td>Alarte Ascendare</td>\n",
       "      <td>Rockets target upward</td>\n",
       "      <td>True</td>\n",
       "      <td>Charm</td>\n",
       "      <td>Red</td>\n",
       "      <td>None</td>\n",
       "    </tr>\n",
       "    <tr>\n",
       "      <th>3</th>\n",
       "      <td>c6898622-b914-4609-b3a0-8659ed2ca08a</td>\n",
       "      <td>Animagus Spell</td>\n",
       "      <td>Amato Animo Animato Animagus</td>\n",
       "      <td>Used as part of the ritual to become an Animagus</td>\n",
       "      <td>True</td>\n",
       "      <td>Transfiguration</td>\n",
       "      <td>Gold</td>\n",
       "      <td>None</td>\n",
       "    </tr>\n",
       "    <tr>\n",
       "      <th>4</th>\n",
       "      <td>0a11bbf5-702c-45ab-bdd6-20debf00ed39</td>\n",
       "      <td>Anteoculatia</td>\n",
       "      <td>Anteoculatia</td>\n",
       "      <td>Grows antlers on head</td>\n",
       "      <td>True</td>\n",
       "      <td>DarkCharm</td>\n",
       "      <td>Red</td>\n",
       "      <td>None</td>\n",
       "    </tr>\n",
       "    <tr>\n",
       "      <th>...</th>\n",
       "      <td>...</td>\n",
       "      <td>...</td>\n",
       "      <td>...</td>\n",
       "      <td>...</td>\n",
       "      <td>...</td>\n",
       "      <td>...</td>\n",
       "      <td>...</td>\n",
       "      <td>...</td>\n",
       "    </tr>\n",
       "    <tr>\n",
       "      <th>301</th>\n",
       "      <td>b907b56f-d643-4e9a-a37f-caa18b61ab97</td>\n",
       "      <td>Levitation Charm</td>\n",
       "      <td>Wingardium Leviosa</td>\n",
       "      <td>Makes objects levitate</td>\n",
       "      <td>True</td>\n",
       "      <td>Charm</td>\n",
       "      <td>Transparent</td>\n",
       "      <td>Jarleth Hobart (1544)</td>\n",
       "    </tr>\n",
       "    <tr>\n",
       "      <th>302</th>\n",
       "      <td>c2a8a6f0-607e-43d3-911d-d57925a5c58c</td>\n",
       "      <td>White sparks</td>\n",
       "      <td>None</td>\n",
       "      <td>Jet of white sparks</td>\n",
       "      <td>None</td>\n",
       "      <td>Charm</td>\n",
       "      <td>White</td>\n",
       "      <td>None</td>\n",
       "    </tr>\n",
       "    <tr>\n",
       "      <th>303</th>\n",
       "      <td>fe45755f-6310-44fc-bdac-58e6485c2b35</td>\n",
       "      <td>Age Line</td>\n",
       "      <td>None</td>\n",
       "      <td>Prevents people above or below a certain age from access to a target</td>\n",
       "      <td>None</td>\n",
       "      <td>Charm</td>\n",
       "      <td>Blue</td>\n",
       "      <td>None</td>\n",
       "    </tr>\n",
       "    <tr>\n",
       "      <th>304</th>\n",
       "      <td>77cead53-30ae-48a9-a118-e3d3df5ffd57</td>\n",
       "      <td>Summoning Charm</td>\n",
       "      <td>Accio</td>\n",
       "      <td>Summons an object</td>\n",
       "      <td>True</td>\n",
       "      <td>Charm</td>\n",
       "      <td>Transparent</td>\n",
       "      <td>None</td>\n",
       "    </tr>\n",
       "    <tr>\n",
       "      <th>305</th>\n",
       "      <td>ede49a3a-58f0-48a7-a73d-7abf2719e5ce</td>\n",
       "      <td>Hurling Hex</td>\n",
       "      <td>None</td>\n",
       "      <td>Causes a broomstick to attempt to hurl its rider off</td>\n",
       "      <td>None</td>\n",
       "      <td>Hex</td>\n",
       "      <td>Transparent</td>\n",
       "      <td>None</td>\n",
       "    </tr>\n",
       "  </tbody>\n",
       "</table>\n",
       "<p>306 rows × 8 columns</p>\n",
       "</div>"
      ],
      "text/plain": [
       "                                       id                name  \\\n",
       "0    fbd3cb46-c174-4843-a07e-fd83545dce58       Opening Charm   \n",
       "1    5eb39a99-72cd-4d40-b4aa-b0f5dd195100  Water-Making Spell   \n",
       "2    ab3a8dfe-1e56-4706-a20d-26afee011ed7    Alarte Ascendare   \n",
       "3    c6898622-b914-4609-b3a0-8659ed2ca08a      Animagus Spell   \n",
       "4    0a11bbf5-702c-45ab-bdd6-20debf00ed39        Anteoculatia   \n",
       "..                                    ...                 ...   \n",
       "301  b907b56f-d643-4e9a-a37f-caa18b61ab97    Levitation Charm   \n",
       "302  c2a8a6f0-607e-43d3-911d-d57925a5c58c        White sparks   \n",
       "303  fe45755f-6310-44fc-bdac-58e6485c2b35            Age Line   \n",
       "304  77cead53-30ae-48a9-a118-e3d3df5ffd57     Summoning Charm   \n",
       "305  ede49a3a-58f0-48a7-a73d-7abf2719e5ce         Hurling Hex   \n",
       "\n",
       "                      incantation  \\\n",
       "0                          Aberto   \n",
       "1                       Aguamenti   \n",
       "2                Alarte Ascendare   \n",
       "3    Amato Animo Animato Animagus   \n",
       "4                    Anteoculatia   \n",
       "..                            ...   \n",
       "301            Wingardium Leviosa   \n",
       "302                          None   \n",
       "303                          None   \n",
       "304                         Accio   \n",
       "305                          None   \n",
       "\n",
       "                                                                   effect  \\\n",
       "0                                                             Opens doors   \n",
       "1                                                          Conjures water   \n",
       "2                                                   Rockets target upward   \n",
       "3                        Used as part of the ritual to become an Animagus   \n",
       "4                                                   Grows antlers on head   \n",
       "..                                                                    ...   \n",
       "301                                                Makes objects levitate   \n",
       "302                                                   Jet of white sparks   \n",
       "303  Prevents people above or below a certain age from access to a target   \n",
       "304                                                     Summons an object   \n",
       "305                  Causes a broomstick to attempt to hurl its rider off   \n",
       "\n",
       "    canBeVerbal             type        light                creator  \n",
       "0          True            Charm         Blue                   None  \n",
       "1          True      Conjuration      IcyBlue                   None  \n",
       "2          True            Charm          Red                   None  \n",
       "3          True  Transfiguration         Gold                   None  \n",
       "4          True        DarkCharm          Red                   None  \n",
       "..          ...              ...          ...                    ...  \n",
       "301        True            Charm  Transparent  Jarleth Hobart (1544)  \n",
       "302        None            Charm        White                   None  \n",
       "303        None            Charm         Blue                   None  \n",
       "304        True            Charm  Transparent                   None  \n",
       "305        None              Hex  Transparent                   None  \n",
       "\n",
       "[306 rows x 8 columns]"
      ]
     },
     "execution_count": 110,
     "metadata": {},
     "output_type": "execute_result"
    }
   ],
   "source": [
    "data = r.json()\n",
    "spells = pd.DataFrame(data)\n",
    "spells"
   ]
  },
  {
   "cell_type": "code",
   "execution_count": 114,
   "metadata": {},
   "outputs": [
    {
     "data": {
      "text/html": [
       "<div>\n",
       "<style scoped>\n",
       "    .dataframe tbody tr th:only-of-type {\n",
       "        vertical-align: middle;\n",
       "    }\n",
       "\n",
       "    .dataframe tbody tr th {\n",
       "        vertical-align: top;\n",
       "    }\n",
       "\n",
       "    .dataframe thead th {\n",
       "        text-align: right;\n",
       "    }\n",
       "</style>\n",
       "<table border=\"1\" class=\"dataframe\">\n",
       "  <thead>\n",
       "    <tr style=\"text-align: right;\">\n",
       "      <th></th>\n",
       "      <th>id</th>\n",
       "      <th>name</th>\n",
       "      <th>incantation</th>\n",
       "      <th>effect</th>\n",
       "      <th>canBeVerbal</th>\n",
       "      <th>type</th>\n",
       "      <th>light</th>\n",
       "      <th>creator</th>\n",
       "    </tr>\n",
       "  </thead>\n",
       "  <tbody>\n",
       "    <tr>\n",
       "      <th>0</th>\n",
       "      <td>fbd3cb46-c174-4843-a07e-fd83545dce58</td>\n",
       "      <td>Opening Charm</td>\n",
       "      <td>Aberto</td>\n",
       "      <td>Opens doors</td>\n",
       "      <td>True</td>\n",
       "      <td>Charm</td>\n",
       "      <td>Blue</td>\n",
       "      <td>None</td>\n",
       "    </tr>\n",
       "    <tr>\n",
       "      <th>1</th>\n",
       "      <td>5eb39a99-72cd-4d40-b4aa-b0f5dd195100</td>\n",
       "      <td>Water-Making Spell</td>\n",
       "      <td>Aguamenti</td>\n",
       "      <td>Conjures water</td>\n",
       "      <td>True</td>\n",
       "      <td>Conjuration</td>\n",
       "      <td>IcyBlue</td>\n",
       "      <td>None</td>\n",
       "    </tr>\n",
       "    <tr>\n",
       "      <th>2</th>\n",
       "      <td>ab3a8dfe-1e56-4706-a20d-26afee011ed7</td>\n",
       "      <td>Alarte Ascendare</td>\n",
       "      <td>Alarte Ascendare</td>\n",
       "      <td>Rockets target upward</td>\n",
       "      <td>True</td>\n",
       "      <td>Charm</td>\n",
       "      <td>Red</td>\n",
       "      <td>None</td>\n",
       "    </tr>\n",
       "    <tr>\n",
       "      <th>3</th>\n",
       "      <td>c6898622-b914-4609-b3a0-8659ed2ca08a</td>\n",
       "      <td>Animagus Spell</td>\n",
       "      <td>Amato Animo Animato Animagus</td>\n",
       "      <td>Used as part of the ritual to become an Animagus</td>\n",
       "      <td>True</td>\n",
       "      <td>Transfiguration</td>\n",
       "      <td>Gold</td>\n",
       "      <td>None</td>\n",
       "    </tr>\n",
       "    <tr>\n",
       "      <th>4</th>\n",
       "      <td>0a11bbf5-702c-45ab-bdd6-20debf00ed39</td>\n",
       "      <td>Anteoculatia</td>\n",
       "      <td>Anteoculatia</td>\n",
       "      <td>Grows antlers on head</td>\n",
       "      <td>True</td>\n",
       "      <td>DarkCharm</td>\n",
       "      <td>Red</td>\n",
       "      <td>None</td>\n",
       "    </tr>\n",
       "    <tr>\n",
       "      <th>...</th>\n",
       "      <td>...</td>\n",
       "      <td>...</td>\n",
       "      <td>...</td>\n",
       "      <td>...</td>\n",
       "      <td>...</td>\n",
       "      <td>...</td>\n",
       "      <td>...</td>\n",
       "      <td>...</td>\n",
       "    </tr>\n",
       "    <tr>\n",
       "      <th>301</th>\n",
       "      <td>b907b56f-d643-4e9a-a37f-caa18b61ab97</td>\n",
       "      <td>Levitation Charm</td>\n",
       "      <td>Wingardium Leviosa</td>\n",
       "      <td>Makes objects levitate</td>\n",
       "      <td>True</td>\n",
       "      <td>Charm</td>\n",
       "      <td>Transparent</td>\n",
       "      <td>Jarleth Hobart (1544)</td>\n",
       "    </tr>\n",
       "    <tr>\n",
       "      <th>302</th>\n",
       "      <td>c2a8a6f0-607e-43d3-911d-d57925a5c58c</td>\n",
       "      <td>White sparks</td>\n",
       "      <td>None</td>\n",
       "      <td>Jet of white sparks</td>\n",
       "      <td>None</td>\n",
       "      <td>Charm</td>\n",
       "      <td>White</td>\n",
       "      <td>None</td>\n",
       "    </tr>\n",
       "    <tr>\n",
       "      <th>303</th>\n",
       "      <td>fe45755f-6310-44fc-bdac-58e6485c2b35</td>\n",
       "      <td>Age Line</td>\n",
       "      <td>None</td>\n",
       "      <td>Prevents people above or below a certain age from access to a target</td>\n",
       "      <td>None</td>\n",
       "      <td>Charm</td>\n",
       "      <td>Blue</td>\n",
       "      <td>None</td>\n",
       "    </tr>\n",
       "    <tr>\n",
       "      <th>304</th>\n",
       "      <td>77cead53-30ae-48a9-a118-e3d3df5ffd57</td>\n",
       "      <td>Summoning Charm</td>\n",
       "      <td>Accio</td>\n",
       "      <td>Summons an object</td>\n",
       "      <td>True</td>\n",
       "      <td>Charm</td>\n",
       "      <td>Transparent</td>\n",
       "      <td>None</td>\n",
       "    </tr>\n",
       "    <tr>\n",
       "      <th>305</th>\n",
       "      <td>ede49a3a-58f0-48a7-a73d-7abf2719e5ce</td>\n",
       "      <td>Hurling Hex</td>\n",
       "      <td>None</td>\n",
       "      <td>Causes a broomstick to attempt to hurl its rider off</td>\n",
       "      <td>None</td>\n",
       "      <td>Hex</td>\n",
       "      <td>Transparent</td>\n",
       "      <td>None</td>\n",
       "    </tr>\n",
       "  </tbody>\n",
       "</table>\n",
       "<p>306 rows × 8 columns</p>\n",
       "</div>"
      ],
      "text/plain": [
       "                                       id                name  \\\n",
       "0    fbd3cb46-c174-4843-a07e-fd83545dce58       Opening Charm   \n",
       "1    5eb39a99-72cd-4d40-b4aa-b0f5dd195100  Water-Making Spell   \n",
       "2    ab3a8dfe-1e56-4706-a20d-26afee011ed7    Alarte Ascendare   \n",
       "3    c6898622-b914-4609-b3a0-8659ed2ca08a      Animagus Spell   \n",
       "4    0a11bbf5-702c-45ab-bdd6-20debf00ed39        Anteoculatia   \n",
       "..                                    ...                 ...   \n",
       "301  b907b56f-d643-4e9a-a37f-caa18b61ab97    Levitation Charm   \n",
       "302  c2a8a6f0-607e-43d3-911d-d57925a5c58c        White sparks   \n",
       "303  fe45755f-6310-44fc-bdac-58e6485c2b35            Age Line   \n",
       "304  77cead53-30ae-48a9-a118-e3d3df5ffd57     Summoning Charm   \n",
       "305  ede49a3a-58f0-48a7-a73d-7abf2719e5ce         Hurling Hex   \n",
       "\n",
       "                      incantation  \\\n",
       "0                          Aberto   \n",
       "1                       Aguamenti   \n",
       "2                Alarte Ascendare   \n",
       "3    Amato Animo Animato Animagus   \n",
       "4                    Anteoculatia   \n",
       "..                            ...   \n",
       "301            Wingardium Leviosa   \n",
       "302                          None   \n",
       "303                          None   \n",
       "304                         Accio   \n",
       "305                          None   \n",
       "\n",
       "                                                                   effect  \\\n",
       "0                                                             Opens doors   \n",
       "1                                                          Conjures water   \n",
       "2                                                   Rockets target upward   \n",
       "3                        Used as part of the ritual to become an Animagus   \n",
       "4                                                   Grows antlers on head   \n",
       "..                                                                    ...   \n",
       "301                                                Makes objects levitate   \n",
       "302                                                   Jet of white sparks   \n",
       "303  Prevents people above or below a certain age from access to a target   \n",
       "304                                                     Summons an object   \n",
       "305                  Causes a broomstick to attempt to hurl its rider off   \n",
       "\n",
       "    canBeVerbal             type        light                creator  \n",
       "0          True            Charm         Blue                   None  \n",
       "1          True      Conjuration      IcyBlue                   None  \n",
       "2          True            Charm          Red                   None  \n",
       "3          True  Transfiguration         Gold                   None  \n",
       "4          True        DarkCharm          Red                   None  \n",
       "..          ...              ...          ...                    ...  \n",
       "301        True            Charm  Transparent  Jarleth Hobart (1544)  \n",
       "302        None            Charm        White                   None  \n",
       "303        None            Charm         Blue                   None  \n",
       "304        True            Charm  Transparent                   None  \n",
       "305        None              Hex  Transparent                   None  \n",
       "\n",
       "[306 rows x 8 columns]"
      ]
     },
     "execution_count": 114,
     "metadata": {},
     "output_type": "execute_result"
    }
   ],
   "source": [
    "data = json.loads(r.text)\n",
    "pd.DataFrame(data)"
   ]
  },
  {
   "cell_type": "markdown",
   "metadata": {
    "id": "VHL2xAgUwbwr"
   },
   "source": [
    "## **Question 2 (10 points):**\n",
    "## Create the DataFrame of your selected feature(s). Whether using an API or scraping, you might need to implement loops to extract enough clean features to use. Be creative with using iteration and data structures to get your data! "
   ]
  },
  {
   "cell_type": "code",
   "execution_count": null,
   "metadata": {},
   "outputs": [],
   "source": []
  },
  {
   "cell_type": "markdown",
   "metadata": {
    "id": "HUuESO7ujoXA"
   },
   "source": [
    "## **Question 3 (15 points):** Perform an exploratory analysis on the DataFrame you've created, making modifications to it as necessary. Some example features to explore include:\n",
    "* If you've scraped text data, plot a few rows of data\n",
    "* If you've scraped any image URLs, plot a few of them\n",
    "* If you've scraped any image URLs, add a column for file extension type\n",
    "* Run some value counts on different variables\n",
    "* If your columns are messy or hard to read, rename them\n",
    "* Cast data types into a usable state (ie: string to integer for numerical analysis)\n",
    "\n",
    "## After exploring, write down 1 to 2 sentences about any interestings aspects of your data (group characteristics, clear relationships between variables) or your process of getting it."
   ]
  },
  {
   "cell_type": "markdown",
   "metadata": {
    "id": "LLQ5j3YPlyt_"
   },
   "source": [
    "My data...."
   ]
  },
  {
   "cell_type": "markdown",
   "metadata": {
    "id": "x1KiVMvjNKGU"
   },
   "source": [
    "### Honor Pledge"
   ]
  },
  {
   "cell_type": "markdown",
   "metadata": {
    "id": "Jo-hwQo5LBAk"
   },
   "source": [
    "On my honor as a student, I have neither given nor received unauthorized aid on this assignment."
   ]
  }
 ],
 "metadata": {
  "colab": {
   "collapsed_sections": [
    "m4xxMTbVTIUP",
    "5Vg22v2m1xVS",
    "dNZQriOetvlc"
   ],
   "provenance": []
  },
  "kernelspec": {
   "display_name": "ds3100",
   "language": "python",
   "name": "python3"
  },
  "language_info": {
   "codemirror_mode": {
    "name": "ipython",
    "version": 3
   },
   "file_extension": ".py",
   "mimetype": "text/x-python",
   "name": "python",
   "nbconvert_exporter": "python",
   "pygments_lexer": "ipython3",
   "version": "3.11.11"
  }
 },
 "nbformat": 4,
 "nbformat_minor": 4
}
